{
 "cells": [
  {
   "cell_type": "code",
   "execution_count": 5,
   "metadata": {},
   "outputs": [],
   "source": [
    "with open('./input_day1.txt') as _file:\n",
    "  inputs = _file.read().splitlines()"
   ]
  },
  {
   "cell_type": "code",
   "execution_count": 19,
   "metadata": {},
   "outputs": [],
   "source": [
    "def get_fuel(inputs,):\n",
    "  sum=0\n",
    "  for mass in inputs:\n",
    "    fuel=int(mass)//3-2\n",
    "    sum+= fuel\n",
    "  return sum"
   ]
  },
  {
   "cell_type": "code",
   "execution_count": 20,
   "metadata": {},
   "outputs": [
    {
     "name": "stdout",
     "output_type": "stream",
     "text": [
      "3262356\n"
     ]
    }
   ],
   "source": [
    "print(get_fuel(inputs))"
   ]
  },
  {
   "cell_type": "markdown",
   "metadata": {},
   "source": [
    "Task 2"
   ]
  },
  {
   "cell_type": "code",
   "execution_count": 25,
   "metadata": {},
   "outputs": [],
   "source": [
    "def get_fuel2(inputs,):\n",
    "  sum=0\n",
    "  for mass in inputs:\n",
    "    fuel=int(mass)//3-2\n",
    "    sum+=fuel\n",
    "    while fuel>=9:\n",
    "        fuel=fuel//3-2\n",
    "        sum+=fuel\n",
    "\n",
    "  return sum"
   ]
  },
  {
   "cell_type": "code",
   "execution_count": 26,
   "metadata": {},
   "outputs": [
    {
     "name": "stdout",
     "output_type": "stream",
     "text": [
      "4890664\n"
     ]
    }
   ],
   "source": [
    "print(get_fuel2(inputs))"
   ]
  }
 ],
 "metadata": {
  "kernelspec": {
   "display_name": "Python 3",
   "language": "python",
   "name": "python3"
  },
  "language_info": {
   "codemirror_mode": {
    "name": "ipython",
    "version": 3
   },
   "file_extension": ".py",
   "mimetype": "text/x-python",
   "name": "python",
   "nbconvert_exporter": "python",
   "pygments_lexer": "ipython3",
   "version": "3.6.3"
  }
 },
 "nbformat": 4,
 "nbformat_minor": 2
}
