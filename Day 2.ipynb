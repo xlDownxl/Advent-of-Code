{
 "cells": [
  {
   "cell_type": "code",
   "execution_count": 69,
   "metadata": {},
   "outputs": [],
   "source": [
    "import numpy as np"
   ]
  },
  {
   "cell_type": "code",
   "execution_count": 95,
   "metadata": {},
   "outputs": [],
   "source": [
    "with open('./input_day2.txt') as _file:\n",
    "    inputs = _file.read()\n",
    "    inputs=list(map(int, inputs.split(',')))"
   ]
  },
  {
   "cell_type": "code",
   "execution_count": 90,
   "metadata": {},
   "outputs": [],
   "source": [
    "def iterate(input):\n",
    "    i=0\n",
    "    while i<len(input):\n",
    "        #print(i)\n",
    "        if input[i]==99:\n",
    "            break\n",
    "        else: \n",
    "            if input[i]==1:\n",
    "                summand1=input[input[i+1]]\n",
    "                summand2=input[input[i+2]]\n",
    "                input[input[i+3]]=summand1+summand2\n",
    "                i+=4\n",
    "            else:\n",
    "                summand1=input[input[i+1]]\n",
    "                summand2=input[input[i+2]]\n",
    "                input[input[i+3]]=summand1*summand2\n",
    "                i+=4\n",
    "        \n",
    "    return input"
   ]
  },
  {
   "cell_type": "code",
   "execution_count": 98,
   "metadata": {},
   "outputs": [],
   "source": [
    "def start_machine(inputs,noun,verb):\n",
    "    inputs[1]=noun\n",
    "    inputs[2]=verb\n",
    "    return inputs"
   ]
  },
  {
   "cell_type": "code",
   "execution_count": 92,
   "metadata": {},
   "outputs": [],
   "source": [
    "inputs=start_machine(inputs)\n",
    "solution=iterate(inputs)"
   ]
  },
  {
   "cell_type": "code",
   "execution_count": 93,
   "metadata": {},
   "outputs": [
    {
     "data": {
      "text/plain": [
       "9581917"
      ]
     },
     "execution_count": 93,
     "metadata": {},
     "output_type": "execute_result"
    }
   ],
   "source": [
    "solution[0]"
   ]
  },
  {
   "cell_type": "markdown",
   "metadata": {},
   "source": [
    "## Task 2"
   ]
  },
  {
   "cell_type": "code",
   "execution_count": 99,
   "metadata": {},
   "outputs": [],
   "source": [
    "def find_params(inputs):\n",
    "    for noun in range(99):\n",
    "        for verb in range(99):\n",
    "            try_inputs=inputs.copy()\n",
    "            try_inputs=start_machine(try_inputs,noun,verb)\n",
    "            solution=iterate(try_inputs)\n",
    "            if solution[0]==19690720:\n",
    "                print(noun)\n",
    "                print(verb)\n",
    "                print(100*noun+verb)\n",
    "                break\n",
    "    "
   ]
  },
  {
   "cell_type": "code",
   "execution_count": 100,
   "metadata": {},
   "outputs": [
    {
     "name": "stdout",
     "output_type": "stream",
     "text": [
      "25\n",
      "5\n",
      "2505\n"
     ]
    }
   ],
   "source": [
    "find_params(inputs)"
   ]
  },
  {
   "cell_type": "code",
   "execution_count": null,
   "metadata": {},
   "outputs": [],
   "source": []
  }
 ],
 "metadata": {
  "kernelspec": {
   "display_name": "Python 3",
   "language": "python",
   "name": "python3"
  },
  "language_info": {
   "codemirror_mode": {
    "name": "ipython",
    "version": 3
   },
   "file_extension": ".py",
   "mimetype": "text/x-python",
   "name": "python",
   "nbconvert_exporter": "python",
   "pygments_lexer": "ipython3",
   "version": "3.6.3"
  }
 },
 "nbformat": 4,
 "nbformat_minor": 2
}
