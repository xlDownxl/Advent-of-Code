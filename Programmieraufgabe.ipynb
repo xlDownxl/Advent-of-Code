{
 "cells": [
  {
   "cell_type": "code",
   "execution_count": 47,
   "metadata": {},
   "outputs": [],
   "source": [
    "import numpy as np\n",
    "import sys\n",
    "decksize=10007"
   ]
  },
  {
   "cell_type": "markdown",
   "metadata": {},
   "source": [
    "## Die Shuffle Funktionen"
   ]
  },
  {
   "cell_type": "code",
   "execution_count": 18,
   "metadata": {},
   "outputs": [],
   "source": [
    "#shuffle 1\n",
    "def deal_into_new_stack(deck):\n",
    "    deck.reverse()\n",
    "    return deck"
   ]
  },
  {
   "cell_type": "code",
   "execution_count": 19,
   "metadata": {},
   "outputs": [],
   "source": [
    "#shuffle 2\n",
    "def cutN(deck,n):\n",
    "    take_away=list(deck[:n])\n",
    "    deck=list(deck[n:])  \n",
    "    deck=deck+take_away\n",
    "    return deck"
   ]
  },
  {
   "cell_type": "code",
   "execution_count": 65,
   "metadata": {},
   "outputs": [],
   "source": [
    "#shuffle 3\n",
    "def dealWithIncrementN(deck,n):   \n",
    "    new_deck=np.zeros(decksize)\n",
    "    position=0\n",
    "    while deck!=[]:\n",
    "        new_deck[((position*n)%decksize)]=deck[0]\n",
    "        del deck[0]\n",
    "        position+=1   \n",
    "    return list(new_deck)"
   ]
  },
  {
   "cell_type": "markdown",
   "metadata": {},
   "source": [
    "## Die Testbeispiele"
   ]
  },
  {
   "cell_type": "code",
   "execution_count": 49,
   "metadata": {},
   "outputs": [
    {
     "data": {
      "text/plain": [
       "[0.0, 3.0, 6.0, 9.0, 2.0, 5.0, 8.0, 1.0, 4.0, 7.0]"
      ]
     },
     "execution_count": 49,
     "metadata": {},
     "output_type": "execute_result"
    }
   ],
   "source": [
    "decksize=10\n",
    "deck = list(np.arange(decksize))\n",
    "deck=dealWithIncrementN(deck,7)\n",
    "\n",
    "deck=deal_into_new_stack(deck)\n",
    "deck=deal_into_new_stack(deck)\n",
    "#deck=cutN(deck,-4)\n",
    "\n",
    "deck"
   ]
  },
  {
   "cell_type": "code",
   "execution_count": 50,
   "metadata": {},
   "outputs": [
    {
     "data": {
      "text/plain": [
       "[3.0, 0.0, 7.0, 4.0, 1.0, 8.0, 5.0, 2.0, 9.0, 6.0]"
      ]
     },
     "execution_count": 50,
     "metadata": {},
     "output_type": "execute_result"
    }
   ],
   "source": [
    "deck = list(np.arange(decksize))\n",
    "deck=cutN(deck,6)\n",
    "deck=dealWithIncrementN(deck,7)\n",
    "\n",
    "deck=deal_into_new_stack(deck)\n",
    "\n",
    "deck"
   ]
  },
  {
   "cell_type": "code",
   "execution_count": 51,
   "metadata": {},
   "outputs": [
    {
     "data": {
      "text/plain": [
       "[9.0, 2.0, 5.0, 8.0, 1.0, 4.0, 7.0, 0.0, 3.0, 6.0]"
      ]
     },
     "execution_count": 51,
     "metadata": {},
     "output_type": "execute_result"
    }
   ],
   "source": [
    "deck = list(np.arange(decksize))\n",
    "deck=deal_into_new_stack(deck)\n",
    "deck=cutN(deck,-2)\n",
    "deck=dealWithIncrementN(deck,7)\n",
    "deck=cutN(deck,8)\n",
    "deck=cutN(deck,-4)\n",
    "deck=dealWithIncrementN(deck,7)\n",
    "deck=cutN(deck,3)\n",
    "deck=dealWithIncrementN(deck,9)\n",
    "deck=dealWithIncrementN(deck,3)\n",
    "deck=cutN(deck,-1)\n",
    "deck"
   ]
  },
  {
   "cell_type": "markdown",
   "metadata": {},
   "source": [
    "## Der Input für die Challenge"
   ]
  },
  {
   "cell_type": "code",
   "execution_count": 52,
   "metadata": {},
   "outputs": [],
   "source": [
    "input=\"deal into new stack deal with increment 25 cut -5919 deal with increment 56 deal into new stack deal with increment 20 deal into new stack deal with increment 53 cut 3262 deal with increment 63 cut 3298 deal into new stack cut -4753 deal with increment 57 deal into new stack cut 9882 deal with increment 42 deal into new stack deal with increment 40 cut 2630 deal with increment 32 cut 1393 deal with increment 74 cut 2724 deal with increment 23 cut -3747 deal into new stack cut 864 deal with increment 61 deal into new stack cut -4200 deal with increment 72 cut -7634 deal with increment 32 deal into new stack cut 6793 deal with increment 38 cut 7167 deal with increment 10 cut -9724 deal into new stack cut 6047 deal with increment 37 cut 7947 deal with increment 63 deal into new stack deal with increment 9 cut -9399 deal with increment 26 cut 1154 deal with increment 74 deal into new stack cut 3670 deal with increment 45 cut 3109 deal with increment 64 cut -7956 deal with increment 39 deal into new stack deal with increment 61 cut -9763 deal with increment 20 cut 4580 deal with increment 30 deal into new stack deal with increment 62 deal into new stack cut -997 deal with increment 54 cut -1085 deal into new stack cut -9264 deal into new stack deal with increment 11 cut 6041 deal with increment 9 deal into new stack cut 5795 deal with increment 26 cut 5980 deal with increment 38 cut 1962 deal with increment 25 cut -565 deal with increment 45 cut 9490 deal with increment 21 cut -3936 deal with increment 64 deal into new stack cut -7067 deal with increment 75 cut -3975 deal with increment 29 deal into new stack cut -7770 deal into new stack deal with increment 12 cut 8647 deal with increment 49 \"\n",
    "input=input.split()"
   ]
  },
  {
   "cell_type": "code",
   "execution_count": 58,
   "metadata": {},
   "outputs": [],
   "source": [
    "decksize=10007"
   ]
  },
  {
   "cell_type": "code",
   "execution_count": null,
   "metadata": {},
   "outputs": [],
   "source": [
    "deck = list(np.arange(decksize))\n",
    "i=0\n",
    "while i <len(input):\n",
    "    if input[i+1]==\"into\":\n",
    "        i+=4\n",
    "        deck=deal_into_new_stack(list(deck))\n",
    "    else: \n",
    "        if input[i]==\"cut\":\n",
    "            n=input[i+1] \n",
    "            deck=cutN(deck,int(n))\n",
    "            i+=2\n",
    "        else:\n",
    "            n=input[i+3]\n",
    "            deck=dealWithIncrementN(deck,int(n))\n",
    "            i+=4\n",
    "print(deck)"
   ]
  },
  {
   "cell_type": "code",
   "execution_count": 67,
   "metadata": {},
   "outputs": [
    {
     "data": {
      "text/plain": [
       "5472"
      ]
     },
     "execution_count": 67,
     "metadata": {},
     "output_type": "execute_result"
    }
   ],
   "source": [
    "deck.index(2019)"
   ]
  },
  {
   "attachments": {
    "Advent%20of%20Code.png": {
     "image/png": "[encoded data removed]"
    }
   },
   "cell_type": "markdown",
   "metadata": {},
   "source": [
    "![Advent%20of%20Code.png](attachment:Advent%20of%20Code.png)"
   ]
  }
 ],
 "metadata": {
  "kernelspec": {
   "display_name": "Python 3",
   "language": "python",
   "name": "python3"
  },
  "language_info": {
   "codemirror_mode": {
    "name": "ipython",
    "version": 3
   },
   "file_extension": ".py",
   "mimetype": "text/x-python",
   "name": "python",
   "nbconvert_exporter": "python",
   "pygments_lexer": "ipython3",
   "version": "3.6.3"
  }
 },
 "nbformat": 4,
 "nbformat_minor": 2
}
